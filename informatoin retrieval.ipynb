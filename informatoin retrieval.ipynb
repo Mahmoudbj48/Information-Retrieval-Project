{
 "cells": [
  {
   "cell_type": "markdown",
   "id": "704cc3ae",
   "metadata": {},
   "source": [
    "# Assignment in Information Retrieval Course"
   ]
  },
  {
   "cell_type": "markdown",
   "id": "74d6fab6",
   "metadata": {},
   "source": [
    "### imports:"
   ]
  },
  {
   "cell_type": "code",
   "execution_count": 1,
   "id": "aadab648",
   "metadata": {},
   "outputs": [
    {
     "name": "stderr",
     "output_type": "stream",
     "text": [
      "[nltk_data] Downloading package punkt to\n",
      "[nltk_data]     C:\\Users\\PC\\AppData\\Roaming\\nltk_data...\n",
      "[nltk_data]   Package punkt is already up-to-date!\n",
      "[nltk_data] Downloading package stopwords to\n",
      "[nltk_data]     C:\\Users\\PC\\AppData\\Roaming\\nltk_data...\n",
      "[nltk_data]   Package stopwords is already up-to-date!\n"
     ]
    }
   ],
   "source": [
    "import os\n",
    "import pandas as pd\n",
    "import nltk\n",
    "from nltk.tokenize import word_tokenize\n",
    "nltk.download('punkt')\n",
    "import re\n",
    "from nltk import ngrams\n",
    "from collections import Counter\n",
    "from nltk.corpus import stopwords\n",
    "nltk.download('stopwords')\n",
    "from nltk.stem import PorterStemmer\n",
    "import matplotlib.pyplot as plt\n",
    "import numpy as np\n",
    "from sklearn.feature_extraction.text import TfidfVectorizer\n",
    "from sklearn.tree import DecisionTreeClassifier\n",
    "from sklearn.model_selection import StratifiedKFold\n",
    "from sklearn.metrics import accuracy_score\n",
    "from sklearn.cluster import KMeans\n",
    "from sklearn.pipeline import make_pipeline"
   ]
  },
  {
   "cell_type": "markdown",
   "id": "70ec67ac",
   "metadata": {},
   "source": [
    "# Language modeling for the directory \"Train and Test\""
   ]
  },
  {
   "cell_type": "markdown",
   "id": "4a3f9d2f",
   "metadata": {},
   "source": [
    "## uploading the 50 files from the train and test directory into set_of_texts list:"
   ]
  },
  {
   "cell_type": "code",
   "execution_count": 2,
   "id": "775af727",
   "metadata": {},
   "outputs": [
    {
     "name": "stdout",
     "output_type": "stream",
     "text": [
      "                                                 Text\n",
      "0   ii46\\n\\nTHEORY AND METHODS\\n\\nA framework to a...\n",
      "1     1Journal of Epidemiology and Comnmunity Heal...\n",
      "2   ARTICLE\\n\\nA “Scientific Diversity” Interventi...\n",
      "3                                       A Large-Sc...\n",
      "4   International Journal for Equity in\\nHealth   ...\n",
      "5   Gender Bias in Cardiovascular Testing Persists...\n",
      "6   ACL Supplement: Introduction\\n\\nGuesT ediTors:...\n",
      "7   Balanced Datasets Are Not Enough:\\n\\nEstimatin...\n",
      "8   https://doi.org/10.1007/s11192-018-2667-0\\n\\nB...\n",
      "9   Eos, Vol. 92, No. 47, 22 November 2011\\n\\n\\nDo...\n",
      "10                                                ...\n",
      "11                                                ...\n",
      "12  Examining Gender Bias in Languages with Gramma...\n",
      "13  Fertility Decline and Gender Bias\\n\\n637\\n\\nFE...\n",
      "14  Adv in Health Sci Educ (2009) 14:135–152\\nDOI ...\n",
      "15  This is the author’s version of a work that wa...\n",
      "16  Munich Personal RePEc Archive\\n\\nGender Bias A...\n",
      "17  Received: 17 December 2018\\nDOI: 10.1111/ejn.1...\n",
      "18  ll\\nPerspective\\n\\nGender bias in academia: A ...\n",
      "19  Immunity\\n\\nArticle\\nGender Bias in Autoimmuni...\n",
      "20  Gender Bias in Contextualized Word Embeddings\\...\n",
      "21  Gender Bias in Coreference Resolution:\\nEvalua...\n",
      "22  Gender Bias in Machine Translation\\nBeatrice S...\n",
      "23  PERSPECTIVE\\n\\nGender bias in medicine\\nKatari...\n",
      "24  ARTICLE\\nhttps://doi.org/10.1057/s41599-019-02...\n",
      "25  16:50 ,8.11.2022\\n\\nGender bias in research: h...\n",
      "26  FEATURE ARTICLE\\n\\nRESEARCH\\n\\nGender bias in ...\n",
      "27  The Teacher\\n\\n..................................\n",
      "28  Mengel, Friederike; Sauermann, Jan; Zölitz, Ul...\n",
      "29  2008/ED/EFA/MRT/PI/18\\n\\nBackground paper prep...\n",
      "30  University of Maryland Francis King Carey Scho...\n",
      "31  See discussions, stats, and author profiles fo...\n",
      "32  www.ccsenet.org/elt\\n\\nEnglish Language Teachi...\n",
      "33  International Journal of Communication 5 (2011...\n",
      "34  comment\\n\\nHow the entire scientific community...\n",
      "35  Identifying and Reducing Gender Bias in Word-L...\n",
      "36  SCIENCE ADVANCES | RESEARCH ARTICLE\\nPSYCHOLOG...\n",
      "37  HHS Public Access\\nAuthor manuscript\\nAuthor M...\n",
      "38  Appeared in the proceedings of EMNLP–IJCNLP 20...\n",
      "39  Men Also Like Shopping:\\nReducing Gender Bias ...\n",
      "40  COLLOQUY\\n\\nTHE QUESTION\\n\\nRESPONSES\\n\\nBACKG...\n",
      "41  Mitigating Gender Bias in Natural Language Pro...\n",
      "42                                                ...\n",
      "43                                               O...\n",
      "44                                           Queen...\n",
      "45             Recruitment and perceptions of gend...\n",
      "46                                                ...\n",
      "47                                                ...\n",
      "48  See discussions, stats, and author profiles fo...\n",
      "49                                                ...\n"
     ]
    }
   ],
   "source": [
    "def open_directory(directory):\n",
    "    set_of_texts = []\n",
    "    for filename in os.listdir(directory):\n",
    "        file_path = os.path.join(directory, filename)\n",
    "        text = open(file_path, 'r', encoding='utf-8').read()\n",
    "        set_of_texts.append({'Text': text})\n",
    "    return pd.DataFrame(set_of_texts)\n",
    "\n",
    "train_and_test_data = open_directory(r\"C:\\Users\\PC\\train and test text\")\n",
    "print(train_and_test_data)"
   ]
  },
  {
   "cell_type": "markdown",
   "id": "49759e0e",
   "metadata": {},
   "source": [
    "## 1.  Tokenize the text from the train and test directory"
   ]
  },
  {
   "cell_type": "code",
   "execution_count": 3,
   "id": "3f2388cd",
   "metadata": {},
   "outputs": [
    {
     "name": "stdout",
     "output_type": "stream",
     "text": [
      "                                                 Text\n",
      "0   [ii, THEORY, AND, METHODS, A, framework, to, a...\n",
      "1   [Journal, of, Epidemiology, and, Comnmunity, H...\n",
      "2   [ARTICLE, A, Scientific, Diversity, Interventi...\n",
      "3   [A, Large, Scale, Test, of, Gender, Bias, in, ...\n",
      "4   [International, Journal, for, Equity, in, Heal...\n",
      "5   [Gender, Bias, in, Cardiovascular, Testing, Pe...\n",
      "6   [ACL, Supplement, Introduction, GuesT, ediTors...\n",
      "7   [Balanced, Datasets, Are, Not, Enough, Estimat...\n",
      "8   [https, doi, org, s, Bias, against, research, ...\n",
      "9   [Eos, Vol, No, November, Does, Gender, Bias, I...\n",
      "10  [Evaluating, Gender, Bias, in, Machine, Transl...\n",
      "11  [Evaluating, the, Underlying, Gender, Bias, in...\n",
      "12  [Examining, Gender, Bias, in, Languages, with,...\n",
      "13  [Fertility, Decline, and, Gender, Bias, FERTIL...\n",
      "14  [Adv, in, Health, Sci, Educ, DOI, s, z, REFLEC...\n",
      "15  [This, is, the, author, s, version, of, a, wor...\n",
      "16  [Munich, Personal, RePEc, Archive, Gender, Bia...\n",
      "17  [Received, December, DOI, ejn, Revised, Februa...\n",
      "18  [ll, Perspective, Gender, bias, in, academia, ...\n",
      "19  [Immunity, Article, Gender, Bias, in, Autoimmu...\n",
      "20  [Gender, Bias, in, Contextualized, Word, Embed...\n",
      "21  [Gender, Bias, in, Coreference, Resolution, Ev...\n",
      "22  [Gender, Bias, in, Machine, Translation, Beatr...\n",
      "23  [PERSPECTIVE, Gender, bias, in, medicine, Kata...\n",
      "24  [ARTICLE, https, doi, org, s, OPEN, Gender, bi...\n",
      "25  [Gender, bias, in, research, how, does, it, af...\n",
      "26  [FEATURE, ARTICLE, RESEARCH, Gender, bias, in,...\n",
      "27  [The, Teacher, Gender, Bias, in, Student, Eval...\n",
      "28  [Mengel, Friederike, Sauermann, Jan, Z, litz, ...\n",
      "29  [ED, EFA, MRT, PI, Background, paper, prepared...\n",
      "30  [University, of, Maryland, Francis, King, Care...\n",
      "31  [See, discussions, stats, and, author, profile...\n",
      "32  [www, ccsenet, org, elt, English, Language, Te...\n",
      "33  [International, Journal, of, Communication, Ge...\n",
      "34  [comment, How, the, entire, scientific, commun...\n",
      "35  [Identifying, and, Reducing, Gender, Bias, in,...\n",
      "36  [SCIENCE, ADVANCES, RESEARCH, ARTICLE, PSYCHOL...\n",
      "37  [HHS, Public, Access, Author, manuscript, Auth...\n",
      "38  [Appeared, in, the, proceedings, of, EMNLP, IJ...\n",
      "39  [Men, Also, Like, Shopping, Reducing, Gender, ...\n",
      "40  [COLLOQUY, THE, QUESTION, RESPONSES, BACKGROUN...\n",
      "41  [Mitigating, Gender, Bias, in, Natural, Langua...\n",
      "42  [Multi, Dimensional, Gender, Bias, Classificat...\n",
      "43  [On, Measuring, Gender, Bias, in, Translation,...\n",
      "44  [Queens, are, Powerful, too, Mitigating, Gende...\n",
      "45  [Recruitment, and, perceptions, of, gender, bi...\n",
      "46  [Reducing, Gender, Bias, in, Abusive, Language...\n",
      "47  [EDITORIAL, EDITORIAL, Speaking, of, gender, b...\n",
      "48  [See, discussions, stats, and, author, profile...\n",
      "49  [Unmasking, Contextual, Stereotypes, Measuring...\n"
     ]
    }
   ],
   "source": [
    "def tokenize_Text(List_of_texts):\n",
    "    # replace any char that not a letter with white space thin separate with white space\n",
    "    replace_chars = r'[^a-zA-Z\\s]'\n",
    "\n",
    "    tokenized_texts = []\n",
    "    for index, row in List_of_texts.iterrows():\n",
    "        cleaned_text = re.sub(replace_chars, ' ', row['Text'])\n",
    "        tokens = word_tokenize(cleaned_text)\n",
    "        tokenized_texts.append({'Text': tokens})\n",
    "    return pd.DataFrame(tokenized_texts)\n",
    "\n",
    "\n",
    "tokenized_df = tokenize_Text(train_and_test_data)\n",
    "\n",
    "# Print the tokenized DataFrame\n",
    "print(tokenized_df)"
   ]
  },
  {
   "cell_type": "markdown",
   "id": "280fd54b",
   "metadata": {},
   "source": [
    "## 2.  Create a language model for your collection"
   ]
  },
  {
   "cell_type": "code",
   "execution_count": 4,
   "id": "15a16b48",
   "metadata": {},
   "outputs": [],
   "source": [
    "def build_ngram_model(data, n):\n",
    "    # Union all text tokens into one list\n",
    "    if len(data)>1:\n",
    "        all_tokens = [token for sublist in data for token in sublist]\n",
    "    else:\n",
    "        all_tokens = data\n",
    "    # Generate n-grams from all the tokens\n",
    "    ngrams_list = list(ngrams(all_tokens, n))\n",
    "    \n",
    "    # Count the occurrences of each n-gram\n",
    "    ngrams_counter = Counter(ngrams_list)\n",
    "    \n",
    "    # Calculate the frequency of each n-gram\n",
    "    total_ngrams = len(ngrams_list)\n",
    "    ngrams_freq = {}\n",
    "    for ngram, count in ngrams_counter.items():\n",
    "        freq = count / total_ngrams\n",
    "        ngrams_freq[ngram] = {'Count': count, 'Frequency': freq}\n",
    "    \n",
    "    # Convert ngrams_freq to a DataFrame\n",
    "    df = pd.DataFrame.from_dict(ngrams_freq, orient='index')\n",
    "    df.index.name = 'N-gram'\n",
    "    df.reset_index(inplace=True)\n",
    "    \n",
    "    # Sort the DataFrame by frequency in descending order\n",
    "    df = df.sort_values(by='Count', ascending=False)\n",
    "    df = df.reset_index(drop=True)\n",
    "    \n",
    "    return df \n",
    "\n",
    "def count_uniqe_words(data):\n",
    "    all_tokens = [token for sublist in data for token in sublist]\n",
    "    return len(set(all_tokens))\n",
    "\n",
    "def count_words(data):\n",
    "    all_tokens = [token for sublist in data for token in sublist]\n",
    "    return len(all_tokens)\n",
    "\n",
    "\n",
    "ngram_model  = build_ngram_model(tokenized_df['Text'], 1)\n",
    "word_count_original = count_words(tokenized_df['Text'])\n",
    "unique_word_count_original = count_uniqe_words(tokenized_df['Text'])"
   ]
  },
  {
   "cell_type": "code",
   "execution_count": 5,
   "id": "29d54c51",
   "metadata": {},
   "outputs": [
    {
     "data": {
      "text/html": [
       "<div>\n",
       "<style scoped>\n",
       "    .dataframe tbody tr th:only-of-type {\n",
       "        vertical-align: middle;\n",
       "    }\n",
       "\n",
       "    .dataframe tbody tr th {\n",
       "        vertical-align: top;\n",
       "    }\n",
       "\n",
       "    .dataframe thead th {\n",
       "        text-align: right;\n",
       "    }\n",
       "</style>\n",
       "<table border=\"1\" class=\"dataframe\">\n",
       "  <thead>\n",
       "    <tr style=\"text-align: right;\">\n",
       "      <th></th>\n",
       "      <th>level_0</th>\n",
       "      <th>Count</th>\n",
       "      <th>Frequency</th>\n",
       "    </tr>\n",
       "  </thead>\n",
       "  <tbody>\n",
       "    <tr>\n",
       "      <th>0</th>\n",
       "      <td>the</td>\n",
       "      <td>15616</td>\n",
       "      <td>0.039947</td>\n",
       "    </tr>\n",
       "    <tr>\n",
       "      <th>1</th>\n",
       "      <td>of</td>\n",
       "      <td>12447</td>\n",
       "      <td>0.031841</td>\n",
       "    </tr>\n",
       "    <tr>\n",
       "      <th>2</th>\n",
       "      <td>and</td>\n",
       "      <td>12301</td>\n",
       "      <td>0.031467</td>\n",
       "    </tr>\n",
       "    <tr>\n",
       "      <th>3</th>\n",
       "      <td>in</td>\n",
       "      <td>9299</td>\n",
       "      <td>0.023788</td>\n",
       "    </tr>\n",
       "    <tr>\n",
       "      <th>4</th>\n",
       "      <td>to</td>\n",
       "      <td>7212</td>\n",
       "      <td>0.018449</td>\n",
       "    </tr>\n",
       "    <tr>\n",
       "      <th>5</th>\n",
       "      <td>a</td>\n",
       "      <td>5207</td>\n",
       "      <td>0.013320</td>\n",
       "    </tr>\n",
       "    <tr>\n",
       "      <th>6</th>\n",
       "      <td>for</td>\n",
       "      <td>4225</td>\n",
       "      <td>0.010808</td>\n",
       "    </tr>\n",
       "    <tr>\n",
       "      <th>7</th>\n",
       "      <td>gender</td>\n",
       "      <td>4165</td>\n",
       "      <td>0.010654</td>\n",
       "    </tr>\n",
       "    <tr>\n",
       "      <th>8</th>\n",
       "      <td>that</td>\n",
       "      <td>3441</td>\n",
       "      <td>0.008802</td>\n",
       "    </tr>\n",
       "    <tr>\n",
       "      <th>9</th>\n",
       "      <td>is</td>\n",
       "      <td>3106</td>\n",
       "      <td>0.007945</td>\n",
       "    </tr>\n",
       "    <tr>\n",
       "      <th>10</th>\n",
       "      <td>on</td>\n",
       "      <td>2616</td>\n",
       "      <td>0.006692</td>\n",
       "    </tr>\n",
       "    <tr>\n",
       "      <th>11</th>\n",
       "      <td>bias</td>\n",
       "      <td>2583</td>\n",
       "      <td>0.006608</td>\n",
       "    </tr>\n",
       "    <tr>\n",
       "      <th>12</th>\n",
       "      <td>are</td>\n",
       "      <td>2411</td>\n",
       "      <td>0.006168</td>\n",
       "    </tr>\n",
       "    <tr>\n",
       "      <th>13</th>\n",
       "      <td>as</td>\n",
       "      <td>2336</td>\n",
       "      <td>0.005976</td>\n",
       "    </tr>\n",
       "    <tr>\n",
       "      <th>14</th>\n",
       "      <td>women</td>\n",
       "      <td>2154</td>\n",
       "      <td>0.005510</td>\n",
       "    </tr>\n",
       "    <tr>\n",
       "      <th>15</th>\n",
       "      <td>with</td>\n",
       "      <td>2104</td>\n",
       "      <td>0.005382</td>\n",
       "    </tr>\n",
       "    <tr>\n",
       "      <th>16</th>\n",
       "      <td>by</td>\n",
       "      <td>1950</td>\n",
       "      <td>0.004988</td>\n",
       "    </tr>\n",
       "    <tr>\n",
       "      <th>17</th>\n",
       "      <td>The</td>\n",
       "      <td>1822</td>\n",
       "      <td>0.004661</td>\n",
       "    </tr>\n",
       "    <tr>\n",
       "      <th>18</th>\n",
       "      <td>al</td>\n",
       "      <td>1732</td>\n",
       "      <td>0.004431</td>\n",
       "    </tr>\n",
       "    <tr>\n",
       "      <th>19</th>\n",
       "      <td>et</td>\n",
       "      <td>1715</td>\n",
       "      <td>0.004387</td>\n",
       "    </tr>\n",
       "  </tbody>\n",
       "</table>\n",
       "</div>"
      ],
      "text/plain": [
       "   level_0  Count  Frequency\n",
       "0      the  15616   0.039947\n",
       "1       of  12447   0.031841\n",
       "2      and  12301   0.031467\n",
       "3       in   9299   0.023788\n",
       "4       to   7212   0.018449\n",
       "5        a   5207   0.013320\n",
       "6      for   4225   0.010808\n",
       "7   gender   4165   0.010654\n",
       "8     that   3441   0.008802\n",
       "9       is   3106   0.007945\n",
       "10      on   2616   0.006692\n",
       "11    bias   2583   0.006608\n",
       "12     are   2411   0.006168\n",
       "13      as   2336   0.005976\n",
       "14   women   2154   0.005510\n",
       "15    with   2104   0.005382\n",
       "16      by   1950   0.004988\n",
       "17     The   1822   0.004661\n",
       "18      al   1732   0.004431\n",
       "19      et   1715   0.004387"
      ]
     },
     "execution_count": 5,
     "metadata": {},
     "output_type": "execute_result"
    }
   ],
   "source": [
    "ngram_model[0:20]"
   ]
  },
  {
   "cell_type": "code",
   "execution_count": 6,
   "id": "2bb57413",
   "metadata": {},
   "outputs": [
    {
     "name": "stdout",
     "output_type": "stream",
     "text": [
      "The Number of words in the orginal Data is: 390917\n",
      "The Number of uniqe words in the orginal Data is: 27436\n"
     ]
    }
   ],
   "source": [
    "print(f\"The Number of words in the orginal Data is: {word_count_original}\")  \n",
    "print(f\"The Number of uniqe words in the orginal Data is: {unique_word_count_original}\")    "
   ]
  },
  {
   "cell_type": "markdown",
   "id": "6ee8a011",
   "metadata": {},
   "source": [
    "## 3.  Perform a set of linguistic operations </br>\n",
    "### a. Remove stop words (a list is in the joint folder)\n"
   ]
  },
  {
   "cell_type": "code",
   "execution_count": 7,
   "id": "b31d58dc",
   "metadata": {},
   "outputs": [],
   "source": [
    "# Get the english stopwords\n",
    "stop_words = set(stopwords.words('english'))\n",
    "\n",
    "\n",
    "def remove_stop_words(tokens):\n",
    "    return [token for token in tokens if token.lower() not in stop_words]\n",
    "\n",
    "# Apply remove_stop_words function to each file tokens\n",
    "text_Without_Stopwords = pd.DataFrame(tokenized_df['Text'].apply(remove_stop_words))\n",
    "\n",
    "ngram_model = build_ngram_model(text_Without_Stopwords['Text'], 1)\n",
    "word_count_Without_Stopwords = count_words(text_Without_Stopwords['Text'])\n",
    "unique_word_count_Without_Stopwords = count_uniqe_words(text_Without_Stopwords['Text'])"
   ]
  },
  {
   "cell_type": "code",
   "execution_count": 8,
   "id": "eb30d897",
   "metadata": {},
   "outputs": [
    {
     "data": {
      "text/html": [
       "<div>\n",
       "<style scoped>\n",
       "    .dataframe tbody tr th:only-of-type {\n",
       "        vertical-align: middle;\n",
       "    }\n",
       "\n",
       "    .dataframe tbody tr th {\n",
       "        vertical-align: top;\n",
       "    }\n",
       "\n",
       "    .dataframe thead th {\n",
       "        text-align: right;\n",
       "    }\n",
       "</style>\n",
       "<table border=\"1\" class=\"dataframe\">\n",
       "  <thead>\n",
       "    <tr style=\"text-align: right;\">\n",
       "      <th></th>\n",
       "      <th>level_0</th>\n",
       "      <th>Count</th>\n",
       "      <th>Frequency</th>\n",
       "    </tr>\n",
       "  </thead>\n",
       "  <tbody>\n",
       "    <tr>\n",
       "      <th>0</th>\n",
       "      <td>gender</td>\n",
       "      <td>4165</td>\n",
       "      <td>0.016491</td>\n",
       "    </tr>\n",
       "    <tr>\n",
       "      <th>1</th>\n",
       "      <td>bias</td>\n",
       "      <td>2583</td>\n",
       "      <td>0.010227</td>\n",
       "    </tr>\n",
       "    <tr>\n",
       "      <th>2</th>\n",
       "      <td>women</td>\n",
       "      <td>2154</td>\n",
       "      <td>0.008529</td>\n",
       "    </tr>\n",
       "    <tr>\n",
       "      <th>3</th>\n",
       "      <td>al</td>\n",
       "      <td>1732</td>\n",
       "      <td>0.006858</td>\n",
       "    </tr>\n",
       "    <tr>\n",
       "      <th>4</th>\n",
       "      <td>et</td>\n",
       "      <td>1715</td>\n",
       "      <td>0.006790</td>\n",
       "    </tr>\n",
       "    <tr>\n",
       "      <th>5</th>\n",
       "      <td>female</td>\n",
       "      <td>1162</td>\n",
       "      <td>0.004601</td>\n",
       "    </tr>\n",
       "    <tr>\n",
       "      <th>6</th>\n",
       "      <td>male</td>\n",
       "      <td>1039</td>\n",
       "      <td>0.004114</td>\n",
       "    </tr>\n",
       "    <tr>\n",
       "      <th>7</th>\n",
       "      <td>Gender</td>\n",
       "      <td>980</td>\n",
       "      <td>0.003880</td>\n",
       "    </tr>\n",
       "    <tr>\n",
       "      <th>8</th>\n",
       "      <td>men</td>\n",
       "      <td>973</td>\n",
       "      <td>0.003853</td>\n",
       "    </tr>\n",
       "    <tr>\n",
       "      <th>9</th>\n",
       "      <td>J</td>\n",
       "      <td>882</td>\n",
       "      <td>0.003492</td>\n",
       "    </tr>\n",
       "    <tr>\n",
       "      <th>10</th>\n",
       "      <td>data</td>\n",
       "      <td>738</td>\n",
       "      <td>0.002922</td>\n",
       "    </tr>\n",
       "    <tr>\n",
       "      <th>11</th>\n",
       "      <td>also</td>\n",
       "      <td>672</td>\n",
       "      <td>0.002661</td>\n",
       "    </tr>\n",
       "    <tr>\n",
       "      <th>12</th>\n",
       "      <td>e</td>\n",
       "      <td>592</td>\n",
       "      <td>0.002344</td>\n",
       "    </tr>\n",
       "    <tr>\n",
       "      <th>13</th>\n",
       "      <td>research</td>\n",
       "      <td>584</td>\n",
       "      <td>0.002312</td>\n",
       "    </tr>\n",
       "    <tr>\n",
       "      <th>14</th>\n",
       "      <td>P</td>\n",
       "      <td>573</td>\n",
       "      <td>0.002269</td>\n",
       "    </tr>\n",
       "    <tr>\n",
       "      <th>15</th>\n",
       "      <td>may</td>\n",
       "      <td>565</td>\n",
       "      <td>0.002237</td>\n",
       "    </tr>\n",
       "    <tr>\n",
       "      <th>16</th>\n",
       "      <td>differences</td>\n",
       "      <td>550</td>\n",
       "      <td>0.002178</td>\n",
       "    </tr>\n",
       "    <tr>\n",
       "      <th>17</th>\n",
       "      <td>F</td>\n",
       "      <td>544</td>\n",
       "      <td>0.002154</td>\n",
       "    </tr>\n",
       "    <tr>\n",
       "      <th>18</th>\n",
       "      <td>study</td>\n",
       "      <td>511</td>\n",
       "      <td>0.002023</td>\n",
       "    </tr>\n",
       "    <tr>\n",
       "      <th>19</th>\n",
       "      <td>word</td>\n",
       "      <td>509</td>\n",
       "      <td>0.002015</td>\n",
       "    </tr>\n",
       "  </tbody>\n",
       "</table>\n",
       "</div>"
      ],
      "text/plain": [
       "        level_0  Count  Frequency\n",
       "0        gender   4165   0.016491\n",
       "1          bias   2583   0.010227\n",
       "2         women   2154   0.008529\n",
       "3            al   1732   0.006858\n",
       "4            et   1715   0.006790\n",
       "5        female   1162   0.004601\n",
       "6          male   1039   0.004114\n",
       "7        Gender    980   0.003880\n",
       "8           men    973   0.003853\n",
       "9             J    882   0.003492\n",
       "10         data    738   0.002922\n",
       "11         also    672   0.002661\n",
       "12            e    592   0.002344\n",
       "13     research    584   0.002312\n",
       "14            P    573   0.002269\n",
       "15          may    565   0.002237\n",
       "16  differences    550   0.002178\n",
       "17            F    544   0.002154\n",
       "18        study    511   0.002023\n",
       "19         word    509   0.002015"
      ]
     },
     "execution_count": 8,
     "metadata": {},
     "output_type": "execute_result"
    }
   ],
   "source": [
    "ngram_model[0:20]"
   ]
  },
  {
   "cell_type": "code",
   "execution_count": 9,
   "id": "4931e8cd",
   "metadata": {},
   "outputs": [
    {
     "name": "stdout",
     "output_type": "stream",
     "text": [
      "The Number of words after removing the Stopwords : 252561\n",
      "The Number of uniqe words after removing the Stopwords : 27128\n"
     ]
    }
   ],
   "source": [
    "print(f\"The Number of words after removing the Stopwords : {word_count_Without_Stopwords}\")  \n",
    "print(f\"The Number of uniqe words after removing the Stopwords : {unique_word_count_Without_Stopwords}\")  "
   ]
  },
  {
   "cell_type": "markdown",
   "id": "967ccf18",
   "metadata": {},
   "source": [
    "### b.  Perform Case Folding"
   ]
  },
  {
   "cell_type": "code",
   "execution_count": 10,
   "id": "d1efa0ea",
   "metadata": {},
   "outputs": [],
   "source": [
    "def lowercase_list(sublist):\n",
    "    return [word.lower() for word in sublist]\n",
    "\n",
    "# Perform case folding (convert text to lowercase) using the function and apply function\n",
    "text_after_case_folding = pd.DataFrame(text_Without_Stopwords['Text'].apply(lowercase_list))\n",
    "\n",
    "ngram_model = build_ngram_model(text_after_case_folding['Text'], 1)\n",
    "word_count_after_case_folding = count_words(text_after_case_folding['Text'])\n",
    "unique_word_count_after_case_folding = count_uniqe_words(text_after_case_folding['Text'])"
   ]
  },
  {
   "cell_type": "code",
   "execution_count": 11,
   "id": "4d087909",
   "metadata": {
    "scrolled": true
   },
   "outputs": [
    {
     "data": {
      "text/html": [
       "<div>\n",
       "<style scoped>\n",
       "    .dataframe tbody tr th:only-of-type {\n",
       "        vertical-align: middle;\n",
       "    }\n",
       "\n",
       "    .dataframe tbody tr th {\n",
       "        vertical-align: top;\n",
       "    }\n",
       "\n",
       "    .dataframe thead th {\n",
       "        text-align: right;\n",
       "    }\n",
       "</style>\n",
       "<table border=\"1\" class=\"dataframe\">\n",
       "  <thead>\n",
       "    <tr style=\"text-align: right;\">\n",
       "      <th></th>\n",
       "      <th>level_0</th>\n",
       "      <th>Count</th>\n",
       "      <th>Frequency</th>\n",
       "    </tr>\n",
       "  </thead>\n",
       "  <tbody>\n",
       "    <tr>\n",
       "      <th>0</th>\n",
       "      <td>gender</td>\n",
       "      <td>5176</td>\n",
       "      <td>0.020494</td>\n",
       "    </tr>\n",
       "    <tr>\n",
       "      <th>1</th>\n",
       "      <td>bias</td>\n",
       "      <td>2953</td>\n",
       "      <td>0.011692</td>\n",
       "    </tr>\n",
       "    <tr>\n",
       "      <th>2</th>\n",
       "      <td>women</td>\n",
       "      <td>2605</td>\n",
       "      <td>0.010314</td>\n",
       "    </tr>\n",
       "    <tr>\n",
       "      <th>3</th>\n",
       "      <td>al</td>\n",
       "      <td>1747</td>\n",
       "      <td>0.006917</td>\n",
       "    </tr>\n",
       "    <tr>\n",
       "      <th>4</th>\n",
       "      <td>et</td>\n",
       "      <td>1720</td>\n",
       "      <td>0.006810</td>\n",
       "    </tr>\n",
       "    <tr>\n",
       "      <th>5</th>\n",
       "      <td>female</td>\n",
       "      <td>1369</td>\n",
       "      <td>0.005420</td>\n",
       "    </tr>\n",
       "    <tr>\n",
       "      <th>6</th>\n",
       "      <td>male</td>\n",
       "      <td>1260</td>\n",
       "      <td>0.004989</td>\n",
       "    </tr>\n",
       "    <tr>\n",
       "      <th>7</th>\n",
       "      <td>men</td>\n",
       "      <td>1045</td>\n",
       "      <td>0.004138</td>\n",
       "    </tr>\n",
       "    <tr>\n",
       "      <th>8</th>\n",
       "      <td>j</td>\n",
       "      <td>949</td>\n",
       "      <td>0.003758</td>\n",
       "    </tr>\n",
       "    <tr>\n",
       "      <th>9</th>\n",
       "      <td>e</td>\n",
       "      <td>941</td>\n",
       "      <td>0.003726</td>\n",
       "    </tr>\n",
       "    <tr>\n",
       "      <th>10</th>\n",
       "      <td>data</td>\n",
       "      <td>876</td>\n",
       "      <td>0.003468</td>\n",
       "    </tr>\n",
       "    <tr>\n",
       "      <th>11</th>\n",
       "      <td>p</td>\n",
       "      <td>875</td>\n",
       "      <td>0.003465</td>\n",
       "    </tr>\n",
       "    <tr>\n",
       "      <th>12</th>\n",
       "      <td>research</td>\n",
       "      <td>795</td>\n",
       "      <td>0.003148</td>\n",
       "    </tr>\n",
       "    <tr>\n",
       "      <th>13</th>\n",
       "      <td>also</td>\n",
       "      <td>723</td>\n",
       "      <td>0.002863</td>\n",
       "    </tr>\n",
       "    <tr>\n",
       "      <th>14</th>\n",
       "      <td>language</td>\n",
       "      <td>651</td>\n",
       "      <td>0.002578</td>\n",
       "    </tr>\n",
       "    <tr>\n",
       "      <th>15</th>\n",
       "      <td>g</td>\n",
       "      <td>649</td>\n",
       "      <td>0.002570</td>\n",
       "    </tr>\n",
       "    <tr>\n",
       "      <th>16</th>\n",
       "      <td>b</td>\n",
       "      <td>635</td>\n",
       "      <td>0.002514</td>\n",
       "    </tr>\n",
       "    <tr>\n",
       "      <th>17</th>\n",
       "      <td>study</td>\n",
       "      <td>622</td>\n",
       "      <td>0.002463</td>\n",
       "    </tr>\n",
       "    <tr>\n",
       "      <th>18</th>\n",
       "      <td>may</td>\n",
       "      <td>615</td>\n",
       "      <td>0.002435</td>\n",
       "    </tr>\n",
       "    <tr>\n",
       "      <th>19</th>\n",
       "      <td>f</td>\n",
       "      <td>605</td>\n",
       "      <td>0.002395</td>\n",
       "    </tr>\n",
       "  </tbody>\n",
       "</table>\n",
       "</div>"
      ],
      "text/plain": [
       "     level_0  Count  Frequency\n",
       "0     gender   5176   0.020494\n",
       "1       bias   2953   0.011692\n",
       "2      women   2605   0.010314\n",
       "3         al   1747   0.006917\n",
       "4         et   1720   0.006810\n",
       "5     female   1369   0.005420\n",
       "6       male   1260   0.004989\n",
       "7        men   1045   0.004138\n",
       "8          j    949   0.003758\n",
       "9          e    941   0.003726\n",
       "10      data    876   0.003468\n",
       "11         p    875   0.003465\n",
       "12  research    795   0.003148\n",
       "13      also    723   0.002863\n",
       "14  language    651   0.002578\n",
       "15         g    649   0.002570\n",
       "16         b    635   0.002514\n",
       "17     study    622   0.002463\n",
       "18       may    615   0.002435\n",
       "19         f    605   0.002395"
      ]
     },
     "execution_count": 11,
     "metadata": {},
     "output_type": "execute_result"
    }
   ],
   "source": [
    "ngram_model[0:20]"
   ]
  },
  {
   "cell_type": "code",
   "execution_count": 12,
   "id": "3f5aa465",
   "metadata": {},
   "outputs": [
    {
     "name": "stdout",
     "output_type": "stream",
     "text": [
      "The Number of words after Performing Case Folding : 252561\n",
      "The Number of uniqe words after Performing Case Folding : 22351\n"
     ]
    }
   ],
   "source": [
    "print(f\"The Number of words after Performing Case Folding : {word_count_after_case_folding}\")  \n",
    "print(f\"The Number of uniqe words after Performing Case Folding : {unique_word_count_after_case_folding}\") "
   ]
  },
  {
   "cell_type": "markdown",
   "id": "b46733b1",
   "metadata": {},
   "source": [
    "### c. Perform Stemming, using porter"
   ]
  },
  {
   "cell_type": "code",
   "execution_count": 13,
   "id": "404dee97",
   "metadata": {},
   "outputs": [],
   "source": [
    "# Initialize the Porter stemmer\n",
    "porter_stemmer = PorterStemmer()\n",
    "\n",
    "\n",
    "def stem_words(word_list):\n",
    "    return [porter_stemmer.stem(word) for word in word_list]\n",
    "\n",
    "text_after_stemming = pd.DataFrame(text_after_case_folding['Text'].apply(stem_words))\n",
    "\n",
    "ngram_model = build_ngram_model(text_after_stemming['Text'], 1)\n",
    "word_count_after_stemming = count_words(text_after_stemming['Text'])\n",
    "unique_word_count_after_stemming = count_uniqe_words(text_after_stemming['Text'])"
   ]
  },
  {
   "cell_type": "code",
   "execution_count": 14,
   "id": "3da34796",
   "metadata": {},
   "outputs": [
    {
     "data": {
      "text/html": [
       "<div>\n",
       "<style scoped>\n",
       "    .dataframe tbody tr th:only-of-type {\n",
       "        vertical-align: middle;\n",
       "    }\n",
       "\n",
       "    .dataframe tbody tr th {\n",
       "        vertical-align: top;\n",
       "    }\n",
       "\n",
       "    .dataframe thead th {\n",
       "        text-align: right;\n",
       "    }\n",
       "</style>\n",
       "<table border=\"1\" class=\"dataframe\">\n",
       "  <thead>\n",
       "    <tr style=\"text-align: right;\">\n",
       "      <th></th>\n",
       "      <th>level_0</th>\n",
       "      <th>Count</th>\n",
       "      <th>Frequency</th>\n",
       "    </tr>\n",
       "  </thead>\n",
       "  <tbody>\n",
       "    <tr>\n",
       "      <th>0</th>\n",
       "      <td>gender</td>\n",
       "      <td>5522</td>\n",
       "      <td>0.021864</td>\n",
       "    </tr>\n",
       "    <tr>\n",
       "      <th>1</th>\n",
       "      <td>bia</td>\n",
       "      <td>2954</td>\n",
       "      <td>0.011696</td>\n",
       "    </tr>\n",
       "    <tr>\n",
       "      <th>2</th>\n",
       "      <td>women</td>\n",
       "      <td>2618</td>\n",
       "      <td>0.010366</td>\n",
       "    </tr>\n",
       "    <tr>\n",
       "      <th>3</th>\n",
       "      <td>al</td>\n",
       "      <td>1752</td>\n",
       "      <td>0.006937</td>\n",
       "    </tr>\n",
       "    <tr>\n",
       "      <th>4</th>\n",
       "      <td>et</td>\n",
       "      <td>1720</td>\n",
       "      <td>0.006810</td>\n",
       "    </tr>\n",
       "    <tr>\n",
       "      <th>5</th>\n",
       "      <td>femal</td>\n",
       "      <td>1656</td>\n",
       "      <td>0.006557</td>\n",
       "    </tr>\n",
       "    <tr>\n",
       "      <th>6</th>\n",
       "      <td>male</td>\n",
       "      <td>1547</td>\n",
       "      <td>0.006125</td>\n",
       "    </tr>\n",
       "    <tr>\n",
       "      <th>7</th>\n",
       "      <td>differ</td>\n",
       "      <td>1404</td>\n",
       "      <td>0.005559</td>\n",
       "    </tr>\n",
       "    <tr>\n",
       "      <th>8</th>\n",
       "      <td>use</td>\n",
       "      <td>1163</td>\n",
       "      <td>0.004605</td>\n",
       "    </tr>\n",
       "    <tr>\n",
       "      <th>9</th>\n",
       "      <td>studi</td>\n",
       "      <td>1153</td>\n",
       "      <td>0.004565</td>\n",
       "    </tr>\n",
       "    <tr>\n",
       "      <th>10</th>\n",
       "      <td>word</td>\n",
       "      <td>1087</td>\n",
       "      <td>0.004304</td>\n",
       "    </tr>\n",
       "    <tr>\n",
       "      <th>11</th>\n",
       "      <td>men</td>\n",
       "      <td>1048</td>\n",
       "      <td>0.004149</td>\n",
       "    </tr>\n",
       "    <tr>\n",
       "      <th>12</th>\n",
       "      <td>j</td>\n",
       "      <td>949</td>\n",
       "      <td>0.003758</td>\n",
       "    </tr>\n",
       "    <tr>\n",
       "      <th>13</th>\n",
       "      <td>e</td>\n",
       "      <td>941</td>\n",
       "      <td>0.003726</td>\n",
       "    </tr>\n",
       "    <tr>\n",
       "      <th>14</th>\n",
       "      <td>research</td>\n",
       "      <td>898</td>\n",
       "      <td>0.003556</td>\n",
       "    </tr>\n",
       "    <tr>\n",
       "      <th>15</th>\n",
       "      <td>data</td>\n",
       "      <td>876</td>\n",
       "      <td>0.003468</td>\n",
       "    </tr>\n",
       "    <tr>\n",
       "      <th>16</th>\n",
       "      <td>p</td>\n",
       "      <td>875</td>\n",
       "      <td>0.003465</td>\n",
       "    </tr>\n",
       "    <tr>\n",
       "      <th>17</th>\n",
       "      <td>model</td>\n",
       "      <td>849</td>\n",
       "      <td>0.003362</td>\n",
       "    </tr>\n",
       "    <tr>\n",
       "      <th>18</th>\n",
       "      <td>evalu</td>\n",
       "      <td>832</td>\n",
       "      <td>0.003294</td>\n",
       "    </tr>\n",
       "    <tr>\n",
       "      <th>19</th>\n",
       "      <td>student</td>\n",
       "      <td>801</td>\n",
       "      <td>0.003172</td>\n",
       "    </tr>\n",
       "  </tbody>\n",
       "</table>\n",
       "</div>"
      ],
      "text/plain": [
       "     level_0  Count  Frequency\n",
       "0     gender   5522   0.021864\n",
       "1        bia   2954   0.011696\n",
       "2      women   2618   0.010366\n",
       "3         al   1752   0.006937\n",
       "4         et   1720   0.006810\n",
       "5      femal   1656   0.006557\n",
       "6       male   1547   0.006125\n",
       "7     differ   1404   0.005559\n",
       "8        use   1163   0.004605\n",
       "9      studi   1153   0.004565\n",
       "10      word   1087   0.004304\n",
       "11       men   1048   0.004149\n",
       "12         j    949   0.003758\n",
       "13         e    941   0.003726\n",
       "14  research    898   0.003556\n",
       "15      data    876   0.003468\n",
       "16         p    875   0.003465\n",
       "17     model    849   0.003362\n",
       "18     evalu    832   0.003294\n",
       "19   student    801   0.003172"
      ]
     },
     "execution_count": 14,
     "metadata": {},
     "output_type": "execute_result"
    }
   ],
   "source": [
    "ngram_model[0:20]"
   ]
  },
  {
   "cell_type": "code",
   "execution_count": 15,
   "id": "ca619c1b",
   "metadata": {},
   "outputs": [
    {
     "name": "stdout",
     "output_type": "stream",
     "text": [
      "The Number of words after Performing stemming : 252561\n",
      "The Number of uniqe words after Performing stemming : 16325\n"
     ]
    }
   ],
   "source": [
    "print(f\"The Number of words after Performing stemming : {word_count_after_stemming}\")  \n",
    "print(f\"The Number of uniqe words after Performing stemming : {unique_word_count_after_stemming}\") "
   ]
  },
  {
   "cell_type": "markdown",
   "id": "407a0244",
   "metadata": {},
   "source": [
    "### check if the final Language Model match zip'f Law:"
   ]
  },
  {
   "cell_type": "code",
   "execution_count": 16,
   "id": "3926171a",
   "metadata": {},
   "outputs": [
    {
     "data": {
      "text/plain": [
       "<matplotlib.collections.PathCollection at 0x25f5505e3d0>"
      ]
     },
     "execution_count": 16,
     "metadata": {},
     "output_type": "execute_result"
    },
    {
     "data": {
      "image/png": "[encoded data removed]",
      "text/plain": [
       "<Figure size 640x480 with 1 Axes>"
      ]
     },
     "metadata": {},
     "output_type": "display_data"
    }
   ],
   "source": [
    "x_values = (ngram_model[0:80])['level_0']\n",
    "y_values = (ngram_model[0:80])['Frequency']\n",
    "\n",
    "plt.scatter(x_values,y_values)"
   ]
  },
  {
   "cell_type": "markdown",
   "id": "d7012423",
   "metadata": {},
   "source": [
    "# Text classification"
   ]
  },
  {
   "cell_type": "markdown",
   "id": "5893bac5",
   "metadata": {},
   "source": [
    "### 1.  Use the \"Train and Test\" and the \"Negative examples\" directories\n"
   ]
  },
  {
   "cell_type": "code",
   "execution_count": 17,
   "id": "cdac7497",
   "metadata": {},
   "outputs": [],
   "source": [
    "train_and_test_data = open_directory(r\"C:\\Users\\PC\\train and test text\")\n",
    "negative_examples_data = open_directory(r\"C:\\Users\\PC\\negative set text\")"
   ]
  },
  {
   "cell_type": "markdown",
   "id": "3e7e341d",
   "metadata": {},
   "source": [
    "### 2. Label the documents – belong to your category or not"
   ]
  },
  {
   "cell_type": "code",
   "execution_count": 18,
   "id": "963708ab",
   "metadata": {},
   "outputs": [],
   "source": [
    "train_and_test_data['label'] = 1\n",
    "negative_examples_data['label'] = 0"
   ]
  },
  {
   "cell_type": "markdown",
   "id": "6da9ff83",
   "metadata": {},
   "source": [
    "### 3. Perform linguistic operations </br>\n",
    "#### a. Tokenize"
   ]
  },
  {
   "cell_type": "code",
   "execution_count": 19,
   "id": "446be3bb",
   "metadata": {},
   "outputs": [],
   "source": [
    "tokenized_train_and_test= tokenize_Text(train_and_test_data)\n",
    "tokenized_negative_examples= tokenize_Text(negative_examples_data)"
   ]
  },
  {
   "cell_type": "markdown",
   "id": "64616a8d",
   "metadata": {},
   "source": [
    "#### b. Remove stop words"
   ]
  },
  {
   "cell_type": "code",
   "execution_count": 20,
   "id": "95a7e05e",
   "metadata": {},
   "outputs": [],
   "source": [
    "# Apply remove_stop_words function to each file tokens\n",
    "text_Without_Stopwords_train_and_test = pd.DataFrame(tokenized_train_and_test['Text'].apply(remove_stop_words))\n",
    "text_Without_Stopwords_negative_examples = pd.DataFrame(tokenized_negative_examples['Text'].apply(remove_stop_words))"
   ]
  },
  {
   "cell_type": "markdown",
   "id": "843b1fa6",
   "metadata": {},
   "source": [
    "### 4. Use a machine learning library that is freely available (WEKA1 for instance or  SCIKIT2 )"
   ]
  },
  {
   "cell_type": "markdown",
   "id": "dc8ac0be",
   "metadata": {},
   "source": [
    "#### a. Select 4 classifiers of your choice"
   ]
  },
  {
   "cell_type": "code",
   "execution_count": 21,
   "id": "ba636e1b",
   "metadata": {},
   "outputs": [],
   "source": [
    "# We choose this four classifiers:\n",
    "from sklearn.linear_model import LogisticRegression\n",
    "from sklearn.neighbors import KNeighborsClassifier\n",
    "from sklearn.ensemble import AdaBoostClassifier\n",
    "from sklearn.naive_bayes import MultinomialNB\n",
    "import seaborn as sns\n",
    "from sklearn.metrics import precision_score, recall_score, f1_score, confusion_matrix\n",
    "\n",
    "logistic_regression = LogisticRegression()\n",
    "knn_classifier = KNeighborsClassifier()\n",
    "adaboost_classifier = AdaBoostClassifier()\n",
    "multinomialNB_classifier = MultinomialNB()\n",
    "\n",
    "classifiers = [\n",
    "    multinomialNB_classifier,\n",
    "    logistic_regression,\n",
    "    knn_classifier,\n",
    "    adaboost_classifier\n",
    "]"
   ]
  },
  {
   "cell_type": "code",
   "execution_count": 22,
   "id": "e7b034ab",
   "metadata": {},
   "outputs": [],
   "source": [
    "def classify(classifier):\n",
    "    accs = []\n",
    "    recalls = []\n",
    "    precisions = []\n",
    "    f1_scores = []\n",
    "    Total_test=[]\n",
    "    Total_pred=[]\n",
    "        # Iterate over the folds and evaluate classifier\n",
    "    for fold, (train_indices, test_indices) in enumerate(kfold.split(X_tfidf, y), 1):\n",
    "        X_train, X_test = X_tfidf[train_indices], X_tfidf[test_indices]\n",
    "        y_train, y_test = y.iloc[train_indices], y.iloc[test_indices]\n",
    "\n",
    "        # Initialize and train DecisionTreeClassifier\n",
    "        classifier.fit(X_train, y_train)\n",
    "\n",
    "        # Predict the target values for the test data\n",
    "        y_pred = classifier.predict(X_test)\n",
    "\n",
    "        Total_test.extend(y_test)\n",
    "        Total_pred.extend(y_pred)\n",
    "        # Calculate and print the accuracy of the classifier for the current fold\n",
    "        accuracy = accuracy_score(y_test, y_pred)\n",
    "        accs.append(accuracy)\n",
    "        # Calculate precision, recall, and F1 score\n",
    "        precision = precision_score(y_test, y_pred)\n",
    "        recall = recall_score(y_test, y_pred)\n",
    "        f1 = f1_score(y_test, y_pred)\n",
    "\n",
    "        precisions.append(precision)\n",
    "        recalls.append(recall)\n",
    "        f1_scores.append(f1)\n",
    "\n",
    "    # Compute mean precision, recall, and F1 score\n",
    "    mean_precision = np.mean(precisions)\n",
    "    mean_recall = np.mean(recalls)\n",
    "    mean_f1 = np.mean(f1_scores)\n",
    "    \n",
    "    evaluation_results[classifier.__class__.__name__] = {\n",
    "    'Precision': mean_precision,\n",
    "    'Recall': mean_recall,\n",
    "    'F1 Score': mean_f1}\n",
    "    \n",
    "        # Plot confusion matrix\n",
    "    conf_matrix = confusion_matrix(Total_test, Total_pred)\n",
    "    plt.figure(figsize=(6, 4))\n",
    "    sns.heatmap(conf_matrix, annot=True, cmap='Blues', fmt='d', xticklabels=classifier.classes_, yticklabels=classifier.classes_)\n",
    "    plt.xlabel('Predicted Labels')\n",
    "    plt.ylabel('True Labels')\n",
    "    plt.title(f'Confusion Matrix - {classifier.__class__.__name__}')\n",
    "    plt.show()\n",
    "        \n",
    "    mean_accuarcy = np.mean(accs)    \n",
    "    print(f\"{classifier.__class__.__name__} Accuracy: {100*mean_accuarcy:.2f}%\")\n",
    "    print(\"-------------------------------------------------------------------\")\n",
    "    return np.mean(accs)"
   ]
  },
  {
   "cell_type": "code",
   "execution_count": 23,
   "id": "32ba5b1b",
   "metadata": {
    "scrolled": true
   },
   "outputs": [
    {
     "data": {
      "image/png": "[encoded data removed]",
      "text/plain": [
       "<Figure size 600x400 with 2 Axes>"
      ]
     },
     "metadata": {},
     "output_type": "display_data"
    },
    {
     "name": "stdout",
     "output_type": "stream",
     "text": [
      "MultinomialNB Accuracy: 99.00%\n",
      "-------------------------------------------------------------------\n"
     ]
    },
    {
     "data": {
      "image/png": "[encoded data removed]",
      "text/plain": [
       "<Figure size 600x400 with 2 Axes>"
      ]
     },
     "metadata": {},
     "output_type": "display_data"
    },
    {
     "name": "stdout",
     "output_type": "stream",
     "text": [
      "LogisticRegression Accuracy: 99.00%\n",
      "-------------------------------------------------------------------\n"
     ]
    },
    {
     "data": {
      "image/png": "[encoded data removed]",
      "text/plain": [
       "<Figure size 600x400 with 2 Axes>"
      ]
     },
     "metadata": {},
     "output_type": "display_data"
    },
    {
     "name": "stdout",
     "output_type": "stream",
     "text": [
      "KNeighborsClassifier Accuracy: 97.00%\n",
      "-------------------------------------------------------------------\n"
     ]
    },
    {
     "data": {
      "image/png": "[encoded data removed]",
      "text/plain": [
       "<Figure size 600x400 with 2 Axes>"
      ]
     },
     "metadata": {},
     "output_type": "display_data"
    },
    {
     "name": "stdout",
     "output_type": "stream",
     "text": [
      "AdaBoostClassifier Accuracy: 99.00%\n",
      "-------------------------------------------------------------------\n"
     ]
    }
   ],
   "source": [
    "combined_df = pd.concat([text_Without_Stopwords_train_and_test, text_Without_Stopwords_negative_examples], ignore_index=True)\n",
    "combined_df['label'] = [1] * len(text_Without_Stopwords_train_and_test) + [0] * len(text_Without_Stopwords_negative_examples)\n",
    "\n",
    "X = combined_df['Text'].apply(' '.join)\n",
    "y = combined_df['label']\n",
    "\n",
    "# Initialize TF-IDF vectorizer\n",
    "vectorizer = TfidfVectorizer()\n",
    "\n",
    "# Transform text data into TF-IDF weights\n",
    "X_tfidf = vectorizer.fit_transform(X)\n",
    "\n",
    "np.random.seed(123)\n",
    "# Initialize and define kfold\n",
    "kfold = StratifiedKFold(n_splits=10, shuffle=True, random_state=123)\n",
    "\n",
    "evaluation_results = {}\n",
    "for classifier in classifiers: \n",
    "    classify(classifier)"
   ]
  },
  {
   "cell_type": "markdown",
   "id": "aa015fbb",
   "metadata": {},
   "source": [
    "### Precision, Recall, and F1"
   ]
  },
  {
   "cell_type": "code",
   "execution_count": 24,
   "id": "51f63371",
   "metadata": {},
   "outputs": [
    {
     "data": {
      "text/html": [
       "<div>\n",
       "<style scoped>\n",
       "    .dataframe tbody tr th:only-of-type {\n",
       "        vertical-align: middle;\n",
       "    }\n",
       "\n",
       "    .dataframe tbody tr th {\n",
       "        vertical-align: top;\n",
       "    }\n",
       "\n",
       "    .dataframe thead th {\n",
       "        text-align: right;\n",
       "    }\n",
       "</style>\n",
       "<table border=\"1\" class=\"dataframe\">\n",
       "  <thead>\n",
       "    <tr style=\"text-align: right;\">\n",
       "      <th></th>\n",
       "      <th>Precision</th>\n",
       "      <th>Recall</th>\n",
       "      <th>F1 Score</th>\n",
       "    </tr>\n",
       "  </thead>\n",
       "  <tbody>\n",
       "    <tr>\n",
       "      <th>MultinomialNB</th>\n",
       "      <td>0.983333</td>\n",
       "      <td>1.00</td>\n",
       "      <td>0.990909</td>\n",
       "    </tr>\n",
       "    <tr>\n",
       "      <th>LogisticRegression</th>\n",
       "      <td>1.000000</td>\n",
       "      <td>0.98</td>\n",
       "      <td>0.988889</td>\n",
       "    </tr>\n",
       "    <tr>\n",
       "      <th>KNeighborsClassifier</th>\n",
       "      <td>0.950000</td>\n",
       "      <td>1.00</td>\n",
       "      <td>0.972727</td>\n",
       "    </tr>\n",
       "    <tr>\n",
       "      <th>AdaBoostClassifier</th>\n",
       "      <td>1.000000</td>\n",
       "      <td>0.98</td>\n",
       "      <td>0.988889</td>\n",
       "    </tr>\n",
       "  </tbody>\n",
       "</table>\n",
       "</div>"
      ],
      "text/plain": [
       "                      Precision  Recall  F1 Score\n",
       "MultinomialNB          0.983333    1.00  0.990909\n",
       "LogisticRegression     1.000000    0.98  0.988889\n",
       "KNeighborsClassifier   0.950000    1.00  0.972727\n",
       "AdaBoostClassifier     1.000000    0.98  0.988889"
      ]
     },
     "execution_count": 24,
     "metadata": {},
     "output_type": "execute_result"
    }
   ],
   "source": [
    "pd.DataFrame(evaluation_results).transpose()"
   ]
  },
  {
   "cell_type": "markdown",
   "id": "509ae713",
   "metadata": {},
   "source": [
    "# Text clustering"
   ]
  },
  {
   "cell_type": "markdown",
   "id": "cdfa09f5",
   "metadata": {},
   "source": [
    "### 1.  Take documents from three additional directories"
   ]
  },
  {
   "cell_type": "code",
   "execution_count": 25,
   "id": "a17efa33",
   "metadata": {},
   "outputs": [],
   "source": [
    "formal_fairness_data = open_directory(r\"C:\\Users\\PC\\cluster 3\")\n",
    "explainable_AI_data = open_directory(r\"C:\\Users\\PC\\cluster 4\")"
   ]
  },
  {
   "cell_type": "code",
   "execution_count": 26,
   "id": "836909c6",
   "metadata": {},
   "outputs": [],
   "source": [
    "# Tekonize \n",
    "tokenized_formal_fairness= tokenize_Text(formal_fairness_data)\n",
    "tokenized_explainable_AI= tokenize_Text(explainable_AI_data)\n",
    "\n",
    "# Remove stop words\n",
    "# Apply remove_stop_words function to each file tokens\n",
    "text_Without_Stopwords_formal_fairness = pd.DataFrame(tokenized_formal_fairness['Text'].apply(remove_stop_words))\n",
    "text_Without_Stopwords_explainable_AI = pd.DataFrame(tokenized_explainable_AI['Text'].apply(remove_stop_words))\n",
    "\n",
    "# add labels [0, 1, 2, 3]\n",
    "text_Without_Stopwords_train_and_test['label'] = 0\n",
    "text_Without_Stopwords_formal_fairness['label'] = 1\n",
    "text_Without_Stopwords_negative_examples['label'] = 2\n",
    "text_Without_Stopwords_explainable_AI['label'] = 3"
   ]
  },
  {
   "cell_type": "markdown",
   "id": "af2c05c7",
   "metadata": {},
   "source": [
    "# 2.  Use a machine learning library that is freely available"
   ]
  },
  {
   "cell_type": "markdown",
   "id": "9efd3d1e",
   "metadata": {},
   "source": [
    "### a. Perform clustering using K-means and 4 clusters"
   ]
  },
  {
   "cell_type": "code",
   "execution_count": 27,
   "id": "72905092",
   "metadata": {
    "scrolled": true
   },
   "outputs": [
    {
     "name": "stderr",
     "output_type": "stream",
     "text": [
      "C:\\Users\\PC\\anaconda3\\Lib\\site-packages\\sklearn\\cluster\\_kmeans.py:1412: FutureWarning: The default value of `n_init` will change from 10 to 'auto' in 1.4. Set the value of `n_init` explicitly to suppress the warning\n",
      "  super()._check_params_vs_input(X, default_n_init=10)\n"
     ]
    },
    {
     "name": "stdout",
     "output_type": "stream",
     "text": [
      "                                                 Text  label  Cluster\n",
      "0   [ii, THEORY, METHODS, framework, analyse, gend...      0        0\n",
      "1   [Journal, Epidemiology, Comnmunity, Health, j,...      0        0\n",
      "2   [ARTICLE, Scientific, Diversity, Intervention,...      0        0\n",
      "3   [Large, Scale, Test, Gender, Bias, Media, Eran...      0        0\n",
      "4   [International, Journal, Equity, Health, BioMe...      0        0\n",
      "..                                                ...    ...      ...\n",
      "45  [article, downloaded, December, Publisher, Ins...      3        3\n",
      "46  [IEEE, Access, Multidiscipinary, Rapid, Review...      3        3\n",
      "47  [Check, updates, Received, November, Revised, ...      3        3\n",
      "48  [th, IEEE, ACM, International, Conference, Pro...      3        3\n",
      "49  [el, materials, miPr, Article, Feature, Import...      3        1\n",
      "\n",
      "[200 rows x 3 columns]\n"
     ]
    }
   ],
   "source": [
    "# Concatenate all data frames into one\n",
    "combined_df = pd.concat([text_Without_Stopwords_train_and_test,text_Without_Stopwords_negative_examples, \n",
    "                         text_Without_Stopwords_formal_fairness, text_Without_Stopwords_explainable_AI])\n",
    "\n",
    "vectorizer = TfidfVectorizer()\n",
    "# create TF-IDF features\n",
    "X = vectorizer.fit_transform(combined_df['Text'].apply(' '.join))\n",
    "\n",
    "# Initialize KMeans clustering algorithm\n",
    "kmeans = KMeans(n_clusters=4, random_state=123)\n",
    "\n",
    "# Fit KMeans to the TF-IDF features\n",
    "kmeans.fit(X)\n",
    "\n",
    "# Add cluster labels to the combined data frame\n",
    "combined_df['Cluster'] = kmeans.labels_\n",
    "\n",
    "print(combined_df)\n"
   ]
  },
  {
   "cell_type": "code",
   "execution_count": 28,
   "id": "1976a239",
   "metadata": {},
   "outputs": [
    {
     "name": "stdout",
     "output_type": "stream",
     "text": [
      "Clustering Accuracy: 88.50%\n"
     ]
    }
   ],
   "source": [
    "# Compute accuracy\n",
    "accuracy = accuracy_score(combined_df['label'], combined_df['Cluster'])\n",
    "\n",
    "print(f\"Clustering Accuracy: {100*accuracy:.2f}%\")"
   ]
  },
  {
   "cell_type": "markdown",
   "id": "1e0ebd4b",
   "metadata": {},
   "source": [
    "### Confusion Matrix"
   ]
  },
  {
   "cell_type": "code",
   "execution_count": 29,
   "id": "7325647d",
   "metadata": {
    "scrolled": true
   },
   "outputs": [
    {
     "data": {
      "image/png": "[encoded data removed]",
      "text/plain": [
       "<Figure size 800x600 with 1 Axes>"
      ]
     },
     "metadata": {},
     "output_type": "display_data"
    }
   ],
   "source": [
    "conf_matrix = confusion_matrix(combined_df['label'], combined_df['Cluster'])\n",
    "# Plot the confusion matrix\n",
    "plt.figure(figsize=(8, 6))\n",
    "sns.heatmap(conf_matrix, annot=True, fmt='g', cmap='Blues', cbar=False)\n",
    "plt.xlabel('Predicted Label')\n",
    "plt.ylabel('True Label')\n",
    "plt.title('Confusion Matrix for KMeans Clustering')\n",
    "plt.show()"
   ]
  }
 ],
 "metadata": {
  "kernelspec": {
   "display_name": "Python 3 (ipykernel)",
   "language": "python",
   "name": "python3"
  },
  "language_info": {
   "codemirror_mode": {
    "name": "ipython",
    "version": 3
   },
   "file_extension": ".py",
   "mimetype": "text/x-python",
   "name": "python",
   "nbconvert_exporter": "python",
   "pygments_lexer": "ipython3",
   "version": "3.11.5"
  }
 },
 "nbformat": 4,
 "nbformat_minor": 5
}
